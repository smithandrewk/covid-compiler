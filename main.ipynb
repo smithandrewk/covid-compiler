{
 "cells": [
  {
   "cell_type": "code",
   "execution_count": null,
   "metadata": {},
   "outputs": [],
   "source": [
    "import os\n",
    "import pandas as pd"
   ]
  },
  {
   "cell_type": "code",
   "execution_count": null,
   "metadata": {},
   "outputs": [],
   "source": [
    "# Find all directories that contain 'FastaFile' in their name\n",
    "dirs = [file for file in os.listdir('.') if 'FastaFile' in file]\n",
    "\n",
    "# Loop through each directory, read the lineage_report CSV, and append it to the list\n",
    "lab_id_to_covid_lineage_df = pd.concat([pd.read_csv(os.path.join(dir, 'lineage_report.csv'))[['taxon', 'lineage']] for dir in dirs],ignore_index=True)\n",
    "\n",
    "log = pd.concat([pd.read_excel(f'2024_COVID-19_sequencing_log.xlsx'), pd.read_excel(f'2025_COVID-19_sequencing_log.xlsx')])\n",
    "log = log.set_index('Key').loc[lab_id_to_covid_lineage_df['taxon'].to_list()]"
   ]
  },
  {
   "cell_type": "code",
   "execution_count": null,
   "metadata": {},
   "outputs": [],
   "source": [
    "\n",
    "lab_id_to_covid_lineage_df = lab_id_to_covid_lineage_df.rename({'taxon':'Key'},axis=1).set_index('Key')\n",
    "print(f'{len(log)} found in log')\n",
    "\n",
    "log['Variant'] = lab_id_to_covid_lineage_df['lineage']\n",
    "log['Category (VOI/VOC/other)'] = 'VOC'\n",
    "log['WHO Nomenclature '] = ''\n",
    "log['Variant Description'] = ''\n",
    "log['Disease Onset Date'] = ''\n",
    "log['Notes'] = ''\n",
    "log['Lab'] = 'PHL'\n",
    "log = log.rename({'PATIENT NAME':'NAME','OPENELIS ACCESSION #':'OE #',\"Date Rcd\\'v in Molecular\":'Date Discovered/Recieved'},axis=1)\n",
    "\n",
    "final_csv_to_send = log[['Variant', 'WHO Nomenclature ', 'Variant Description','Category (VOI/VOC/other)', 'NAME', 'DOB', 'SEX', 'RACE', 'COUNTY','STATE', 'DOC', 'AGE', 'Disease Onset Date', 'OE #', 'Notes', 'Lab','Date Discovered/Recieved']]\n",
    "final_csv_to_send['DOB'] = final_csv_to_send['DOB'].astype('datetime64[ns]')\n",
    "\n",
    "final_csv_to_send.to_csv(f'03_10_2025_Variants.csv',index=False)"
   ]
  },
  {
   "cell_type": "code",
   "execution_count": null,
   "metadata": {},
   "outputs": [],
   "source": [
    "log.merge(final_csv_to_send, on='Key', how='left')[['WGS Lineage','Variant']]"
   ]
  },
  {
   "cell_type": "code",
   "execution_count": null,
   "metadata": {},
   "outputs": [],
   "source": [
    "final_csv_to_send"
   ]
  }
 ],
 "metadata": {
  "kernelspec": {
   "display_name": "Python 3",
   "language": "python",
   "name": "python3"
  },
  "language_info": {
   "codemirror_mode": {
    "name": "ipython",
    "version": 3
   },
   "file_extension": ".py",
   "mimetype": "text/x-python",
   "name": "python",
   "nbconvert_exporter": "python",
   "pygments_lexer": "ipython3",
   "version": "3.10.12"
  }
 },
 "nbformat": 4,
 "nbformat_minor": 2
}
